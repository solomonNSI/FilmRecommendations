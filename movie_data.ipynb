{
 "cells": [
  {
   "cell_type": "markdown",
   "id": "51fd62bc-dee2-4bd8-a5a6-9f25103e52fb",
   "metadata": {},
   "source": [
    "# Content based movie recommendation\n",
    "\n",
    "## Data preprocessing"
   ]
  },
  {
   "cell_type": "code",
   "execution_count": 1,
   "id": "2cb78b49-9b0e-45ca-aac6-4b805cda6ff4",
   "metadata": {},
   "outputs": [
    {
     "name": "stderr",
     "output_type": "stream",
     "text": [
      "/tmp/ipykernel_29904/3681033511.py:7: DtypeWarning: Columns (10) have mixed types. Specify dtype option on import or set low_memory=False.\n",
      "  metadata_df = pd.read_csv('data/the_movies/movies_metadata.csv')\n"
     ]
    }
   ],
   "source": [
    "import pandas as pd\n",
    "import numpy as np\n",
    "\n",
    "credits_df = pd.read_csv('data/the_movies/credits.csv')\n",
    "#ratings_df = pd.read_csv('data/the_movies/ratings.csv')\n",
    "keywords_df = pd.read_csv('data/the_movies/keywords.csv')\n",
    "metadata_df = pd.read_csv('data/the_movies/movies_metadata.csv')"
   ]
  },
  {
   "cell_type": "code",
   "execution_count": 2,
   "id": "9250b555-1681-4226-8856-535bbb477630",
   "metadata": {},
   "outputs": [],
   "source": [
    "from ast import literal_eval\n",
    "\n",
    "# description \n",
    "metadata_df['tagline'] = metadata_df['tagline'].fillna(\"\") #NaN vals -> \"\"\n",
    "metadata_df['overview'] = metadata_df['overview'].fillna(\"\")\n",
    "#merge overview and tagline for bag of words quantization\n",
    "metadata_df['desc'] = metadata_df['overview'] +\" \"+ metadata_df['tagline']\n",
    "metadata_df['desc'] = metadata_df['desc'].fillna('')\n",
    "\n",
    "#keywords and cast\n",
    "keywords_df['id'] = keywords_df['id'].astype('int')\n",
    "credits_df['id'] = credits_df['id'].astype('int')\n",
    "metadata_df = metadata_df[metadata_df['id'].apply(lambda x: x.isdigit())]\n",
    "metadata_df['id'] = metadata_df['id'].astype('int')\n",
    "\n",
    "df = pd.merge(metadata_df, credits_df, on='id')\n",
    "df = pd.merge(df, keywords_df, on='id')\n",
    "\n",
    "#str to dict\n",
    "df['cast'] = df['cast'].apply(literal_eval)\n",
    "df['crew'] = df['crew'].apply(literal_eval)\n",
    "df['keywords'] = df['keywords'].apply(literal_eval)\n",
    "df['cast_size'] = df['cast'].apply(lambda x: len(x))\n",
    "df['crew_size'] = df['crew'].apply(lambda x: len(x))\n"
   ]
  },
  {
   "cell_type": "code",
   "execution_count": 3,
   "id": "4818b059-b53d-472c-bd6b-7ee6560cbe50",
   "metadata": {},
   "outputs": [],
   "source": [
    "#stem the description\n",
    "#stemmeer -> keep only word stem \n",
    "#does not seem to effect anything\n",
    "\n",
    "from nltk.stem import *\n",
    "\n",
    "stemmer = PorterStemmer()\n",
    "st = 'A sufferer of cystic fibrosis travels to a legendary shrine that reputedly has the power to heal his condition. '.split(' ')\n",
    "x = [stemmer.stem(word) for word in st]\n",
    "' '.join(x)\n",
    "\n",
    "for i in range(10):\n",
    "    st = df.iloc[i]['desc'].split(' ')\n",
    "    stems = [stemmer.stem(word) for word in st]\n",
    "    df.at[i,'desc'] = ' '.join(stems)"
   ]
  },
  {
   "cell_type": "code",
   "execution_count": 4,
   "id": "95c18228-053f-491e-a4a7-458cbeacb870",
   "metadata": {},
   "outputs": [],
   "source": [
    "def get_director(x):\n",
    "    for i in x:\n",
    "        if i['job'] == 'Director':\n",
    "            return i['name']\n",
    "    return np.nan\n",
    "\n",
    "df['director'] = df['crew'].apply(get_director)\n"
   ]
  },
  {
   "cell_type": "code",
   "execution_count": 5,
   "id": "2477d438-1004-420e-af62-cdb8b9b25c11",
   "metadata": {},
   "outputs": [],
   "source": [
    "df['cast'] = df['cast'].apply(lambda x: [i['name'] for i in x] if isinstance(x, list) else [])\n",
    "df['cast'] = df['cast'].apply(lambda x: x[:3] if len(x) >=3 else x)\n",
    "df['keywords'] = df['keywords'].apply(lambda x: [i['name'] for i in x] if isinstance(x, list) else [])"
   ]
  },
  {
   "cell_type": "code",
   "execution_count": 6,
   "id": "9597c743-19bb-49b8-b938-6e945193580b",
   "metadata": {},
   "outputs": [],
   "source": [
    "df['cast'] = df['cast'].apply(lambda x: [str.lower(i.replace(\" \", \"\")) for i in x])\n",
    "\n",
    "df['director'] = df['director'].astype('str').apply(lambda x: [str.lower(x.replace(\" \", \"\"))])\n",
    "#df['director'] = df['director'].apply(lambda x: [x,x, x]) nah, director 3x is a bs"
   ]
  },
  {
   "cell_type": "code",
   "execution_count": 7,
   "id": "6d6b863d-0660-48cc-b7f9-af08bd84fa25",
   "metadata": {},
   "outputs": [
    {
     "data": {
      "text/plain": [
       "46628"
      ]
     },
     "execution_count": 7,
     "metadata": {},
     "output_type": "execute_result"
    }
   ],
   "source": [
    "len(df)"
   ]
  },
  {
   "cell_type": "code",
   "execution_count": 8,
   "id": "a5f2b88b-495e-4f38-b78c-f36365baa92f",
   "metadata": {},
   "outputs": [],
   "source": [
    "df['castkey'] =  df['keywords'] + df['cast'] + df['director'] \n",
    "#genre ignored for now\n",
    "#TODO what about genre? --> preprocessing needed & what weight against keywords"
   ]
  },
  {
   "cell_type": "code",
   "execution_count": 9,
   "id": "a63024c7-7abb-4644-9d59-8913d4521cb7",
   "metadata": {},
   "outputs": [],
   "source": [
    "for i in range(len(df)):\n",
    "    df.at[i, 'castkey'] = \" \".join(df.at[i,'castkey'])"
   ]
  },
  {
   "cell_type": "markdown",
   "id": "bb4a9ea3-17a2-4f15-b30e-fd9aa3df4a6f",
   "metadata": {},
   "source": [
    "## Keywords-Cast Vectorization"
   ]
  },
  {
   "cell_type": "markdown",
   "id": "92ea5549-a606-462e-aa85-a9fa316dc0e9",
   "metadata": {},
   "source": [
    "Keep only keywords with occurence > 1, using only stems of each word. Those are calculated using NLTK stemmer implementation based on Porter stemming algorithm. We shal"
   ]
  },
  {
   "cell_type": "code",
   "execution_count": 10,
   "id": "91bc6b16-5663-4fd9-bb92-3711aa2b4a66",
   "metadata": {},
   "outputs": [],
   "source": [
    "from sklearn.feature_extraction.text import TfidfVectorizer, CountVectorizer\n",
    "from sklearn.preprocessing import normalize\n",
    "from sklearn.metrics.pairwise import cosine_similarity\n",
    "\n",
    "def vectorize(target, method='count', max_features=5000):\n",
    "    tfidf_matrix = None\n",
    "    if method == 'tfidf':\n",
    "        vectorizer = TfidfVectorizer(analyzer='word', ngram_range=(1, 2),\n",
    "                                     stop_words='english', max_features=max_features,\n",
    "                                     min_df=1)\n",
    "        tfidf_matrix = vectorizer.fit_transform(target)\n",
    "    if method == 'count':\n",
    "        vectorizer = CountVectorizer(analyzer='word', lowercase=False, ngram_range=(1, 2), min_df=0, stop_words='english')\n",
    "        tfidf_matrix = vectorizer.fit_transform(target)\n",
    "        tfidf_matrix = normalize(tfidf_matrix, norm='l1', axis=1) #normalize -> sum of a column == 1\n",
    "    \n",
    "    return tfidf_matrix"
   ]
  },
  {
   "cell_type": "code",
   "execution_count": 11,
   "id": "d2bde44e-b2b7-4dfb-b346-abb0f12dcab2",
   "metadata": {},
   "outputs": [],
   "source": [
    "feat_castkey = vectorize(df['castkey']) #count matrix"
   ]
  },
  {
   "cell_type": "code",
   "execution_count": 12,
   "id": "4a9ff225-33ec-4c34-b19b-c65e15131eab",
   "metadata": {},
   "outputs": [
    {
     "name": "stdout",
     "output_type": "stream",
     "text": [
      "similarity matrix computed of shape (46628, 46628)\n"
     ]
    }
   ],
   "source": [
    "sim_castkey = cosine_similarity(feat_castkey, feat_castkey)\n",
    "print(\"similarity matrix computed of shape\", sim_castkey.shape)"
   ]
  },
  {
   "cell_type": "markdown",
   "id": "c550ab3f-859a-4f8c-ae99-4fd350b7acaa",
   "metadata": {},
   "source": [
    "## Description Vectorization"
   ]
  },
  {
   "cell_type": "code",
   "execution_count": null,
   "id": "755125be-def2-44d5-ad62-8c943238c41c",
   "metadata": {},
   "outputs": [],
   "source": [
    "feat_desc = vectorize(df['desc'], method='tfidf')\n",
    "sim_desc = cosine_similarity(feat_desc, feat_desc)"
   ]
  },
  {
   "cell_type": "markdown",
   "id": "fe727a6f-59ac-4d44-aab5-d0bf66af3976",
   "metadata": {},
   "source": [
    "## Results\n",
    "\n",
    "### Description based recommendation\n"
   ]
  },
  {
   "cell_type": "code",
   "execution_count": null,
   "id": "46fb6237-0c45-4d3e-841b-40e2db9032dd",
   "metadata": {},
   "outputs": [],
   "source": [
    "name2id = pd.Series(df.index, index=df['original_title'])\n",
    "\n",
    "def cosine_recommend(name, cosine_sim, n=10):\n",
    "    '''return n most similar movies (in order) given name and similarity matrix '''\n",
    "    beta = 0\n",
    "    idx = name2id[name]\n",
    "    n+=1\n",
    "    print(idx)\n",
    "    #get vect of ratings \n",
    "    rating = df.iloc[:]['vote_average'].to_numpy() / 10\n",
    "        \n",
    "    score = cosine_sim[idx] * rating ** beta #using rating as somewhat apriori proba.\n",
    "    sort = np.argsort(score) #returns indices of would be sorted, default quicksort\n",
    "    \n",
    "    df['score'] = score\n",
    "    \n",
    "    if n==1: #details, returs whole df\n",
    "        recom_id = sort[-1]\n",
    "        recom = df.iloc[recom_id]\n",
    "        print(sort.shape)\n",
    "        print(\"Recommendation:\", recom['original_title'], \"| score:\", score[recom_id])\n",
    "    else:\n",
    "        recom_id = sort[-n:]\n",
    "        recom_id = recom_id[::-1] #reverse\n",
    "        recom = [None]*len(recom_id)\n",
    "        for i in range(len(recom_id)):\n",
    "            recom[i] = df.iloc[recom_id[i]]['original_title']\n",
    "            print(i, \"recommendation:\", recom[i], \"| score:\", score[recom_id[i]], \n",
    "                  \"| rating:\", df.iloc[recom_id[i]]['vote_average'])\n",
    "    return recom\n",
    "\n",
    "cosine_recommend(\"The Lord of the Rings: The Two Towers\", sim_desc)"
   ]
  },
  {
   "cell_type": "markdown",
   "id": "e82286ea-5bcf-46bd-95d7-a84dbc5cdd0e",
   "metadata": {},
   "source": [
    "## Results\n",
    "As seen above, we have compared the distances and received 5 closest elements to the given movie, which is \"The Lord of the Rings: The Two Towers\". Naturally the closest movie in the dataset to the inputed one, is the movie itself. Below we can see data for inputed movie, and the best recommendation of our algorithm, based on which the recommendation was selected. Just by reading, we can see the similarities, between those two corpuses. However by looking at the average rating of the recommended movie, this might be a questionable recommendation. We will export computed similarity matrix for later usage, and continue with a different set of features."
   ]
  },
  {
   "cell_type": "code",
   "execution_count": null,
   "id": "bc302d10-5848-4296-8139-8959535b6ff9",
   "metadata": {},
   "outputs": [],
   "source": [
    "print(df.loc[df['original_title'] == 'The Lord of the Rings: The Two Towers']['desc'].item())\n",
    "\n",
    "df.loc[df['original_title'] == 'Wizards of the Lost Kingdom']['desc'].item()"
   ]
  },
  {
   "cell_type": "markdown",
   "id": "28f72737-6cad-4c4d-9fb1-d9f773f64b01",
   "metadata": {},
   "source": [
    "## Keyword-cast Based Results"
   ]
  },
  {
   "cell_type": "code",
   "execution_count": 16,
   "id": "e5cffb0f-d06e-48ee-bd34-9a70ee1bdfc2",
   "metadata": {},
   "outputs": [
    {
     "name": "stdout",
     "output_type": "stream",
     "text": [
      "5876\n",
      "0 recommendation: The Lord of the Rings: The Two Towers | score: 1.0000000000000002 | rating: 8.0\n",
      "1 recommendation: The Lord of the Rings: The Return of the King | score: 0.5001181893409723 | rating: 8.1\n",
      "2 recommendation: The Lord of the Rings: The Fellowship of the Ring | score: 0.48980536649995376 | rating: 8.0\n",
      "3 recommendation: The Hobbit: The Battle of the Five Armies | score: 0.34921514788478925 | rating: 7.1\n",
      "4 recommendation: The Hobbit: The Desolation of Smaug | score: 0.279751442472094 | rating: 7.6\n",
      "5 recommendation: The Hobbit: An Unexpected Journey | score: 0.2764294762875762 | rating: 7.0\n",
      "6 recommendation: Warcraft | score: 0.17466675292187456 | rating: 6.3\n",
      "7 recommendation: The Hunt for Gollum | score: 0.17099639201419226 | rating: 6.3\n",
      "8 recommendation: L'homme sans ombre | score: 0.16903085094570325 | rating: 8.5\n",
      "9 recommendation: 神様のパズル | score: 0.16903085094570325 | rating: 6.2\n",
      "10 recommendation: Ator l'invincibile 2 | score: 0.16064386578049974 | rating: 1.9\n"
     ]
    },
    {
     "data": {
      "text/plain": [
       "['The Lord of the Rings: The Two Towers',\n",
       " 'The Lord of the Rings: The Return of the King',\n",
       " 'The Lord of the Rings: The Fellowship of the Ring',\n",
       " 'The Hobbit: The Battle of the Five Armies',\n",
       " 'The Hobbit: The Desolation of Smaug',\n",
       " 'The Hobbit: An Unexpected Journey',\n",
       " 'Warcraft',\n",
       " 'The Hunt for Gollum',\n",
       " \"L'homme sans ombre\",\n",
       " '神様のパズル',\n",
       " \"Ator l'invincibile 2\"]"
      ]
     },
     "execution_count": 16,
     "metadata": {},
     "output_type": "execute_result"
    }
   ],
   "source": [
    "cosine_recommend(\"The Lord of the Rings: The Two Towers\", sim_castkey)"
   ]
  },
  {
   "cell_type": "code",
   "execution_count": 17,
   "id": "55c2569c-42da-4aed-905b-e8999b30a0ea",
   "metadata": {},
   "outputs": [
    {
     "data": {
      "text/html": [
       "<div>\n",
       "<style scoped>\n",
       "    .dataframe tbody tr th:only-of-type {\n",
       "        vertical-align: middle;\n",
       "    }\n",
       "\n",
       "    .dataframe tbody tr th {\n",
       "        vertical-align: top;\n",
       "    }\n",
       "\n",
       "    .dataframe thead th {\n",
       "        text-align: right;\n",
       "    }\n",
       "</style>\n",
       "<table border=\"1\" class=\"dataframe\">\n",
       "  <thead>\n",
       "    <tr style=\"text-align: right;\">\n",
       "      <th></th>\n",
       "      <th>adult</th>\n",
       "      <th>belongs_to_collection</th>\n",
       "      <th>budget</th>\n",
       "      <th>genres</th>\n",
       "      <th>homepage</th>\n",
       "      <th>id</th>\n",
       "      <th>imdb_id</th>\n",
       "      <th>original_language</th>\n",
       "      <th>original_title</th>\n",
       "      <th>overview</th>\n",
       "      <th>...</th>\n",
       "      <th>vote_average</th>\n",
       "      <th>vote_count</th>\n",
       "      <th>desc</th>\n",
       "      <th>cast</th>\n",
       "      <th>crew</th>\n",
       "      <th>keywords</th>\n",
       "      <th>cast_size</th>\n",
       "      <th>crew_size</th>\n",
       "      <th>director</th>\n",
       "      <th>castkey</th>\n",
       "    </tr>\n",
       "  </thead>\n",
       "  <tbody>\n",
       "    <tr>\n",
       "      <th>5876</th>\n",
       "      <td>False</td>\n",
       "      <td>{'id': 119, 'name': 'The Lord of the Rings Col...</td>\n",
       "      <td>79000000</td>\n",
       "      <td>[{'id': 12, 'name': 'Adventure'}, {'id': 14, '...</td>\n",
       "      <td>http://www.lordoftherings.net/</td>\n",
       "      <td>121</td>\n",
       "      <td>tt0167261</td>\n",
       "      <td>en</td>\n",
       "      <td>The Lord of the Rings: The Two Towers</td>\n",
       "      <td>Frodo and Sam are trekking to Mordor to destro...</td>\n",
       "      <td>...</td>\n",
       "      <td>8.0</td>\n",
       "      <td>7641.0</td>\n",
       "      <td>Frodo and Sam are trekking to Mordor to destro...</td>\n",
       "      <td>[elijahwood, ianmckellen, viggomortensen]</td>\n",
       "      <td>[{'credit_id': '52fe421ac3a36847f800454f', 'de...</td>\n",
       "      <td>[elves, orcs, middle-earth (tolkien), hobbit, ...</td>\n",
       "      <td>34</td>\n",
       "      <td>36</td>\n",
       "      <td>[peterjackson]</td>\n",
       "      <td>elves orcs middle-earth (tolkien) hobbit based...</td>\n",
       "    </tr>\n",
       "  </tbody>\n",
       "</table>\n",
       "<p>1 rows × 32 columns</p>\n",
       "</div>"
      ],
      "text/plain": [
       "      adult                              belongs_to_collection    budget  \\\n",
       "5876  False  {'id': 119, 'name': 'The Lord of the Rings Col...  79000000   \n",
       "\n",
       "                                                 genres  \\\n",
       "5876  [{'id': 12, 'name': 'Adventure'}, {'id': 14, '...   \n",
       "\n",
       "                            homepage   id    imdb_id original_language  \\\n",
       "5876  http://www.lordoftherings.net/  121  tt0167261                en   \n",
       "\n",
       "                             original_title  \\\n",
       "5876  The Lord of the Rings: The Two Towers   \n",
       "\n",
       "                                               overview  ... vote_average  \\\n",
       "5876  Frodo and Sam are trekking to Mordor to destro...  ...          8.0   \n",
       "\n",
       "     vote_count                                               desc  \\\n",
       "5876     7641.0  Frodo and Sam are trekking to Mordor to destro...   \n",
       "\n",
       "                                           cast  \\\n",
       "5876  [elijahwood, ianmckellen, viggomortensen]   \n",
       "\n",
       "                                                   crew  \\\n",
       "5876  [{'credit_id': '52fe421ac3a36847f800454f', 'de...   \n",
       "\n",
       "                                               keywords  cast_size crew_size  \\\n",
       "5876  [elves, orcs, middle-earth (tolkien), hobbit, ...         34        36   \n",
       "\n",
       "            director                                            castkey  \n",
       "5876  [peterjackson]  elves orcs middle-earth (tolkien) hobbit based...  \n",
       "\n",
       "[1 rows x 32 columns]"
      ]
     },
     "execution_count": 17,
     "metadata": {},
     "output_type": "execute_result"
    }
   ],
   "source": [
    "df.loc[df['original_title'] == \"The Lord of the Rings: The Two Towers\"]"
   ]
  },
  {
   "cell_type": "code",
   "execution_count": 44,
   "id": "806f46fd-8970-46a3-bfa0-f9c56e959b55",
   "metadata": {},
   "outputs": [
    {
     "data": {
      "text/plain": [
       "array([[1, 2, 3],\n",
       "       [4, 1, 5],\n",
       "       [6, 7, 1]])"
      ]
     },
     "execution_count": 44,
     "metadata": {},
     "output_type": "execute_result"
    }
   ],
   "source": [
    "x = np.asarray([[1,2,3],[4,1,5],[6,7,1]])\n",
    "low = np.tril(x, -1)\n",
    "up = np.triu(x)\n",
    "low + up"
   ]
  },
  {
   "cell_type": "markdown",
   "id": "31fcb189-d93e-4350-90fd-4e755ae3e7ec",
   "metadata": {},
   "source": [
    "## N-movies based recommendation\n",
    "\n",
    "For our final recommender system we want to use several input movies - criterions, to which we want to find the closest element in the matrix. Which we can formulate given set of inputs $I = {i_1, i_2,... ,i_n}$ as follows;  \n",
    "$m^* = argmax_m \\, s(i_1,m) + s(i_2,m) + ... + s(i_n,m) \\; \\forall m \\in M$, where M is set of known movies, and $s$ is the similarity of the two given movies."
   ]
  },
  {
   "cell_type": "code",
   "execution_count": 18,
   "id": "cb9a0cad-9b75-4874-b5b3-32bc132bb817",
   "metadata": {
    "scrolled": true,
    "tags": []
   },
   "outputs": [
    {
     "name": "stdout",
     "output_type": "stream",
     "text": [
      "max score: 0.4048488061163992  for id: 7069\n"
     ]
    },
    {
     "data": {
      "text/html": [
       "<div>\n",
       "<style scoped>\n",
       "    .dataframe tbody tr th:only-of-type {\n",
       "        vertical-align: middle;\n",
       "    }\n",
       "\n",
       "    .dataframe tbody tr th {\n",
       "        vertical-align: top;\n",
       "    }\n",
       "\n",
       "    .dataframe thead th {\n",
       "        text-align: right;\n",
       "    }\n",
       "</style>\n",
       "<table border=\"1\" class=\"dataframe\">\n",
       "  <thead>\n",
       "    <tr style=\"text-align: right;\">\n",
       "      <th></th>\n",
       "      <th>adult</th>\n",
       "      <th>belongs_to_collection</th>\n",
       "      <th>budget</th>\n",
       "      <th>genres</th>\n",
       "      <th>homepage</th>\n",
       "      <th>id</th>\n",
       "      <th>imdb_id</th>\n",
       "      <th>original_language</th>\n",
       "      <th>original_title</th>\n",
       "      <th>overview</th>\n",
       "      <th>...</th>\n",
       "      <th>vote_average</th>\n",
       "      <th>vote_count</th>\n",
       "      <th>desc</th>\n",
       "      <th>cast</th>\n",
       "      <th>crew</th>\n",
       "      <th>keywords</th>\n",
       "      <th>cast_size</th>\n",
       "      <th>crew_size</th>\n",
       "      <th>director</th>\n",
       "      <th>castkey</th>\n",
       "    </tr>\n",
       "  </thead>\n",
       "  <tbody>\n",
       "    <tr>\n",
       "      <th>7069</th>\n",
       "      <td>False</td>\n",
       "      <td>{'id': 119, 'name': 'The Lord of the Rings Col...</td>\n",
       "      <td>94000000</td>\n",
       "      <td>[{'id': 12, 'name': 'Adventure'}, {'id': 14, '...</td>\n",
       "      <td>http://www.lordoftherings.net</td>\n",
       "      <td>122</td>\n",
       "      <td>tt0167260</td>\n",
       "      <td>en</td>\n",
       "      <td>The Lord of the Rings: The Return of the King</td>\n",
       "      <td>Aragorn is revealed as the heir to the ancient...</td>\n",
       "      <td>...</td>\n",
       "      <td>8.1</td>\n",
       "      <td>8226.0</td>\n",
       "      <td>Aragorn is revealed as the heir to the ancient...</td>\n",
       "      <td>[elijahwood, ianmckellen, viggomortensen]</td>\n",
       "      <td>[{'credit_id': '52fe421bc3a36847f80046c3', 'de...</td>\n",
       "      <td>[elves, orcs, middle-earth (tolkien), based on...</td>\n",
       "      <td>29</td>\n",
       "      <td>29</td>\n",
       "      <td>[peterjackson]</td>\n",
       "      <td>elves orcs middle-earth (tolkien) based on nov...</td>\n",
       "    </tr>\n",
       "    <tr>\n",
       "      <th>4904</th>\n",
       "      <td>False</td>\n",
       "      <td>{'id': 119, 'name': 'The Lord of the Rings Col...</td>\n",
       "      <td>93000000</td>\n",
       "      <td>[{'id': 12, 'name': 'Adventure'}, {'id': 14, '...</td>\n",
       "      <td>http://www.lordoftherings.net/</td>\n",
       "      <td>120</td>\n",
       "      <td>tt0120737</td>\n",
       "      <td>en</td>\n",
       "      <td>The Lord of the Rings: The Fellowship of the Ring</td>\n",
       "      <td>Young hobbit Frodo Baggins, after inheriting a...</td>\n",
       "      <td>...</td>\n",
       "      <td>8.0</td>\n",
       "      <td>8892.0</td>\n",
       "      <td>Young hobbit Frodo Baggins, after inheriting a...</td>\n",
       "      <td>[elijahwood, ianmckellen, cateblanchett]</td>\n",
       "      <td>[{'credit_id': '52fe421ac3a36847f80043ef', 'de...</td>\n",
       "      <td>[elves, dwarves, orcs, middle-earth (tolkien),...</td>\n",
       "      <td>26</td>\n",
       "      <td>30</td>\n",
       "      <td>[peterjackson]</td>\n",
       "      <td>elves dwarves orcs middle-earth (tolkien) hobb...</td>\n",
       "    </tr>\n",
       "    <tr>\n",
       "      <th>25591</th>\n",
       "      <td>False</td>\n",
       "      <td>{'id': 121938, 'name': 'The Hobbit Collection'...</td>\n",
       "      <td>250000000</td>\n",
       "      <td>[{'id': 28, 'name': 'Action'}, {'id': 12, 'nam...</td>\n",
       "      <td>http://www.thehobbit.com/</td>\n",
       "      <td>122917</td>\n",
       "      <td>tt2310332</td>\n",
       "      <td>en</td>\n",
       "      <td>The Hobbit: The Battle of the Five Armies</td>\n",
       "      <td>Immediately after the events of The Desolation...</td>\n",
       "      <td>...</td>\n",
       "      <td>7.1</td>\n",
       "      <td>4884.0</td>\n",
       "      <td>Immediately after the events of The Desolation...</td>\n",
       "      <td>[martinfreeman, ianmckellen, richardarmitage]</td>\n",
       "      <td>[{'credit_id': '548ad49a9251414fa20011ab', 'de...</td>\n",
       "      <td>[corruption, elves, dwarves, orcs, middle-eart...</td>\n",
       "      <td>42</td>\n",
       "      <td>127</td>\n",
       "      <td>[peterjackson]</td>\n",
       "      <td>corruption elves dwarves orcs middle-earth (to...</td>\n",
       "    </tr>\n",
       "    <tr>\n",
       "      <th>22257</th>\n",
       "      <td>False</td>\n",
       "      <td>{'id': 121938, 'name': 'The Hobbit Collection'...</td>\n",
       "      <td>250000000</td>\n",
       "      <td>[{'id': 12, 'name': 'Adventure'}, {'id': 14, '...</td>\n",
       "      <td>http://www.thehobbit.com/</td>\n",
       "      <td>57158</td>\n",
       "      <td>tt1170358</td>\n",
       "      <td>en</td>\n",
       "      <td>The Hobbit: The Desolation of Smaug</td>\n",
       "      <td>The Dwarves, Bilbo and Gandalf have successful...</td>\n",
       "      <td>...</td>\n",
       "      <td>7.6</td>\n",
       "      <td>4633.0</td>\n",
       "      <td>The Dwarves, Bilbo and Gandalf have successful...</td>\n",
       "      <td>[martinfreeman, ianmckellen, richardarmitage]</td>\n",
       "      <td>[{'credit_id': '5350e7b0c3a3681d93000e5d', 'de...</td>\n",
       "      <td>[elves, dwarves, orcs, hobbit, dragon, wizard,...</td>\n",
       "      <td>32</td>\n",
       "      <td>108</td>\n",
       "      <td>[peterjackson]</td>\n",
       "      <td>elves dwarves orcs hobbit dragon wizard sword ...</td>\n",
       "    </tr>\n",
       "    <tr>\n",
       "      <th>20174</th>\n",
       "      <td>False</td>\n",
       "      <td>{'id': 121938, 'name': 'The Hobbit Collection'...</td>\n",
       "      <td>250000000</td>\n",
       "      <td>[{'id': 12, 'name': 'Adventure'}, {'id': 14, '...</td>\n",
       "      <td>http://www.thehobbit.com/</td>\n",
       "      <td>49051</td>\n",
       "      <td>tt0903624</td>\n",
       "      <td>en</td>\n",
       "      <td>The Hobbit: An Unexpected Journey</td>\n",
       "      <td>Bilbo Baggins, a hobbit enjoying his quiet lif...</td>\n",
       "      <td>...</td>\n",
       "      <td>7.0</td>\n",
       "      <td>8427.0</td>\n",
       "      <td>Bilbo Baggins, a hobbit enjoying his quiet lif...</td>\n",
       "      <td>[ianmckellen, martinfreeman, richardarmitage]</td>\n",
       "      <td>[{'credit_id': '52fe4783c3a36847f8139f7f', 'de...</td>\n",
       "      <td>[riddle, elves, dwarves, orcs, middle-earth (t...</td>\n",
       "      <td>30</td>\n",
       "      <td>50</td>\n",
       "      <td>[peterjackson]</td>\n",
       "      <td>riddle elves dwarves orcs middle-earth (tolkie...</td>\n",
       "    </tr>\n",
       "    <tr>\n",
       "      <th>16535</th>\n",
       "      <td>False</td>\n",
       "      <td>{'id': 141290, 'name': 'The Lord of the Rings ...</td>\n",
       "      <td>0</td>\n",
       "      <td>[{'id': 16, 'name': 'Animation'}, {'id': 10751...</td>\n",
       "      <td>NaN</td>\n",
       "      <td>1361</td>\n",
       "      <td>tt0079802</td>\n",
       "      <td>en</td>\n",
       "      <td>The Return of the King</td>\n",
       "      <td>Two Hobbits struggle to destroy the Ring in Mo...</td>\n",
       "      <td>...</td>\n",
       "      <td>5.1</td>\n",
       "      <td>9.0</td>\n",
       "      <td>Two Hobbits struggle to destroy the Ring in Mo...</td>\n",
       "      <td>[orsonbean, theodorebikel, williamconrad]</td>\n",
       "      <td>[{'credit_id': '52fe42eec3a36847f802dc9f', 'de...</td>\n",
       "      <td>[elves, orcs, hobbit, shire, tower]</td>\n",
       "      <td>10</td>\n",
       "      <td>8</td>\n",
       "      <td>[julesbass]</td>\n",
       "      <td>elves orcs hobbit shire tower orsonbean theodo...</td>\n",
       "    </tr>\n",
       "    <tr>\n",
       "      <th>2027</th>\n",
       "      <td>False</td>\n",
       "      <td>{'id': 141290, 'name': 'The Lord of the Rings ...</td>\n",
       "      <td>4000000</td>\n",
       "      <td>[{'id': 14, 'name': 'Fantasy'}, {'id': 18, 'na...</td>\n",
       "      <td>NaN</td>\n",
       "      <td>123</td>\n",
       "      <td>tt0077869</td>\n",
       "      <td>en</td>\n",
       "      <td>The Lord of the Rings</td>\n",
       "      <td>The Fellowship of the Ring embark on a journey...</td>\n",
       "      <td>...</td>\n",
       "      <td>6.1</td>\n",
       "      <td>187.0</td>\n",
       "      <td>The Fellowship of the Ring embark on a journey...</td>\n",
       "      <td>[christopherguard, williamsquire, michaelscholes]</td>\n",
       "      <td>[{'credit_id': '52fe421bc3a36847f8004833', 'de...</td>\n",
       "      <td>[elves, dwarves, hobbit, mission]</td>\n",
       "      <td>18</td>\n",
       "      <td>11</td>\n",
       "      <td>[ralphbakshi]</td>\n",
       "      <td>elves dwarves hobbit mission christopherguard ...</td>\n",
       "    </tr>\n",
       "    <tr>\n",
       "      <th>14315</th>\n",
       "      <td>False</td>\n",
       "      <td>NaN</td>\n",
       "      <td>5000</td>\n",
       "      <td>[{'id': 28, 'name': 'Action'}, {'id': 12, 'nam...</td>\n",
       "      <td>http://www.thehuntforgollum.com/</td>\n",
       "      <td>17632</td>\n",
       "      <td>tt1323925</td>\n",
       "      <td>en</td>\n",
       "      <td>The Hunt for Gollum</td>\n",
       "      <td>A British fan film based on the appendices of ...</td>\n",
       "      <td>...</td>\n",
       "      <td>6.3</td>\n",
       "      <td>30.0</td>\n",
       "      <td>A British fan film based on the appendices of ...</td>\n",
       "      <td>[adrianwebster, patricko'connor, arinalldridge]</td>\n",
       "      <td>[{'credit_id': '52fe47399251416c75091f47', 'de...</td>\n",
       "      <td>[middle-earth (tolkien), the lord of the rings]</td>\n",
       "      <td>27</td>\n",
       "      <td>24</td>\n",
       "      <td>[chrisbouchard]</td>\n",
       "      <td>middle-earth (tolkien) the lord of the rings a...</td>\n",
       "    </tr>\n",
       "    <tr>\n",
       "      <th>44513</th>\n",
       "      <td>False</td>\n",
       "      <td>NaN</td>\n",
       "      <td>0</td>\n",
       "      <td>[{'id': 28, 'name': 'Action'}, {'id': 12, 'nam...</td>\n",
       "      <td>NaN</td>\n",
       "      <td>7234</td>\n",
       "      <td>tt0090333</td>\n",
       "      <td>en</td>\n",
       "      <td>Wizards of the Lost Kingdom</td>\n",
       "      <td>Simon, son of the king, must flee when the emp...</td>\n",
       "      <td>...</td>\n",
       "      <td>2.3</td>\n",
       "      <td>8.0</td>\n",
       "      <td>Simon, son of the king, must flee when the emp...</td>\n",
       "      <td>[bosvenson, vidalpeterson, thomchristopher]</td>\n",
       "      <td>[{'credit_id': '52fe4475c3a36847f809731d', 'de...</td>\n",
       "      <td>[sword, magic, prince, kingdom, shurka, magica...</td>\n",
       "      <td>14</td>\n",
       "      <td>7</td>\n",
       "      <td>[héctorolivera]</td>\n",
       "      <td>sword magic prince kingdom shurka magical obje...</td>\n",
       "    </tr>\n",
       "    <tr>\n",
       "      <th>46177</th>\n",
       "      <td>False</td>\n",
       "      <td>NaN</td>\n",
       "      <td>60000000</td>\n",
       "      <td>[{'id': 28, 'name': 'Action'}, {'id': 37, 'nam...</td>\n",
       "      <td>http://thedarktower-movie.com</td>\n",
       "      <td>353491</td>\n",
       "      <td>tt1648190</td>\n",
       "      <td>en</td>\n",
       "      <td>The Dark Tower</td>\n",
       "      <td>The last Gunslinger, Roland Deschain, has been...</td>\n",
       "      <td>...</td>\n",
       "      <td>5.7</td>\n",
       "      <td>688.0</td>\n",
       "      <td>The last Gunslinger, Roland Deschain, has been...</td>\n",
       "      <td>[idriselba, matthewmcconaughey, tomtaylor]</td>\n",
       "      <td>[{'credit_id': '5912cf71c3a36864d40533b7', 'de...</td>\n",
       "      <td>[gunslinger, based on novel]</td>\n",
       "      <td>50</td>\n",
       "      <td>199</td>\n",
       "      <td>[nikolajarcel]</td>\n",
       "      <td>gunslinger based on novel idriselba matthewmcc...</td>\n",
       "    </tr>\n",
       "  </tbody>\n",
       "</table>\n",
       "<p>10 rows × 32 columns</p>\n",
       "</div>"
      ],
      "text/plain": [
       "       adult                              belongs_to_collection     budget  \\\n",
       "7069   False  {'id': 119, 'name': 'The Lord of the Rings Col...   94000000   \n",
       "4904   False  {'id': 119, 'name': 'The Lord of the Rings Col...   93000000   \n",
       "25591  False  {'id': 121938, 'name': 'The Hobbit Collection'...  250000000   \n",
       "22257  False  {'id': 121938, 'name': 'The Hobbit Collection'...  250000000   \n",
       "20174  False  {'id': 121938, 'name': 'The Hobbit Collection'...  250000000   \n",
       "16535  False  {'id': 141290, 'name': 'The Lord of the Rings ...          0   \n",
       "2027   False  {'id': 141290, 'name': 'The Lord of the Rings ...    4000000   \n",
       "14315  False                                                NaN       5000   \n",
       "44513  False                                                NaN          0   \n",
       "46177  False                                                NaN   60000000   \n",
       "\n",
       "                                                  genres  \\\n",
       "7069   [{'id': 12, 'name': 'Adventure'}, {'id': 14, '...   \n",
       "4904   [{'id': 12, 'name': 'Adventure'}, {'id': 14, '...   \n",
       "25591  [{'id': 28, 'name': 'Action'}, {'id': 12, 'nam...   \n",
       "22257  [{'id': 12, 'name': 'Adventure'}, {'id': 14, '...   \n",
       "20174  [{'id': 12, 'name': 'Adventure'}, {'id': 14, '...   \n",
       "16535  [{'id': 16, 'name': 'Animation'}, {'id': 10751...   \n",
       "2027   [{'id': 14, 'name': 'Fantasy'}, {'id': 18, 'na...   \n",
       "14315  [{'id': 28, 'name': 'Action'}, {'id': 12, 'nam...   \n",
       "44513  [{'id': 28, 'name': 'Action'}, {'id': 12, 'nam...   \n",
       "46177  [{'id': 28, 'name': 'Action'}, {'id': 37, 'nam...   \n",
       "\n",
       "                               homepage      id    imdb_id original_language  \\\n",
       "7069      http://www.lordoftherings.net     122  tt0167260                en   \n",
       "4904     http://www.lordoftherings.net/     120  tt0120737                en   \n",
       "25591         http://www.thehobbit.com/  122917  tt2310332                en   \n",
       "22257         http://www.thehobbit.com/   57158  tt1170358                en   \n",
       "20174         http://www.thehobbit.com/   49051  tt0903624                en   \n",
       "16535                               NaN    1361  tt0079802                en   \n",
       "2027                                NaN     123  tt0077869                en   \n",
       "14315  http://www.thehuntforgollum.com/   17632  tt1323925                en   \n",
       "44513                               NaN    7234  tt0090333                en   \n",
       "46177     http://thedarktower-movie.com  353491  tt1648190                en   \n",
       "\n",
       "                                          original_title  \\\n",
       "7069       The Lord of the Rings: The Return of the King   \n",
       "4904   The Lord of the Rings: The Fellowship of the Ring   \n",
       "25591          The Hobbit: The Battle of the Five Armies   \n",
       "22257                The Hobbit: The Desolation of Smaug   \n",
       "20174                  The Hobbit: An Unexpected Journey   \n",
       "16535                             The Return of the King   \n",
       "2027                               The Lord of the Rings   \n",
       "14315                                The Hunt for Gollum   \n",
       "44513                        Wizards of the Lost Kingdom   \n",
       "46177                                     The Dark Tower   \n",
       "\n",
       "                                                overview  ... vote_average  \\\n",
       "7069   Aragorn is revealed as the heir to the ancient...  ...          8.1   \n",
       "4904   Young hobbit Frodo Baggins, after inheriting a...  ...          8.0   \n",
       "25591  Immediately after the events of The Desolation...  ...          7.1   \n",
       "22257  The Dwarves, Bilbo and Gandalf have successful...  ...          7.6   \n",
       "20174  Bilbo Baggins, a hobbit enjoying his quiet lif...  ...          7.0   \n",
       "16535  Two Hobbits struggle to destroy the Ring in Mo...  ...          5.1   \n",
       "2027   The Fellowship of the Ring embark on a journey...  ...          6.1   \n",
       "14315  A British fan film based on the appendices of ...  ...          6.3   \n",
       "44513  Simon, son of the king, must flee when the emp...  ...          2.3   \n",
       "46177  The last Gunslinger, Roland Deschain, has been...  ...          5.7   \n",
       "\n",
       "      vote_count                                               desc  \\\n",
       "7069      8226.0  Aragorn is revealed as the heir to the ancient...   \n",
       "4904      8892.0  Young hobbit Frodo Baggins, after inheriting a...   \n",
       "25591     4884.0  Immediately after the events of The Desolation...   \n",
       "22257     4633.0  The Dwarves, Bilbo and Gandalf have successful...   \n",
       "20174     8427.0  Bilbo Baggins, a hobbit enjoying his quiet lif...   \n",
       "16535        9.0  Two Hobbits struggle to destroy the Ring in Mo...   \n",
       "2027       187.0  The Fellowship of the Ring embark on a journey...   \n",
       "14315       30.0  A British fan film based on the appendices of ...   \n",
       "44513        8.0  Simon, son of the king, must flee when the emp...   \n",
       "46177      688.0  The last Gunslinger, Roland Deschain, has been...   \n",
       "\n",
       "                                                    cast  \\\n",
       "7069           [elijahwood, ianmckellen, viggomortensen]   \n",
       "4904            [elijahwood, ianmckellen, cateblanchett]   \n",
       "25591      [martinfreeman, ianmckellen, richardarmitage]   \n",
       "22257      [martinfreeman, ianmckellen, richardarmitage]   \n",
       "20174      [ianmckellen, martinfreeman, richardarmitage]   \n",
       "16535          [orsonbean, theodorebikel, williamconrad]   \n",
       "2027   [christopherguard, williamsquire, michaelscholes]   \n",
       "14315    [adrianwebster, patricko'connor, arinalldridge]   \n",
       "44513        [bosvenson, vidalpeterson, thomchristopher]   \n",
       "46177         [idriselba, matthewmcconaughey, tomtaylor]   \n",
       "\n",
       "                                                    crew  \\\n",
       "7069   [{'credit_id': '52fe421bc3a36847f80046c3', 'de...   \n",
       "4904   [{'credit_id': '52fe421ac3a36847f80043ef', 'de...   \n",
       "25591  [{'credit_id': '548ad49a9251414fa20011ab', 'de...   \n",
       "22257  [{'credit_id': '5350e7b0c3a3681d93000e5d', 'de...   \n",
       "20174  [{'credit_id': '52fe4783c3a36847f8139f7f', 'de...   \n",
       "16535  [{'credit_id': '52fe42eec3a36847f802dc9f', 'de...   \n",
       "2027   [{'credit_id': '52fe421bc3a36847f8004833', 'de...   \n",
       "14315  [{'credit_id': '52fe47399251416c75091f47', 'de...   \n",
       "44513  [{'credit_id': '52fe4475c3a36847f809731d', 'de...   \n",
       "46177  [{'credit_id': '5912cf71c3a36864d40533b7', 'de...   \n",
       "\n",
       "                                                keywords  cast_size crew_size  \\\n",
       "7069   [elves, orcs, middle-earth (tolkien), based on...         29        29   \n",
       "4904   [elves, dwarves, orcs, middle-earth (tolkien),...         26        30   \n",
       "25591  [corruption, elves, dwarves, orcs, middle-eart...         42       127   \n",
       "22257  [elves, dwarves, orcs, hobbit, dragon, wizard,...         32       108   \n",
       "20174  [riddle, elves, dwarves, orcs, middle-earth (t...         30        50   \n",
       "16535                [elves, orcs, hobbit, shire, tower]         10         8   \n",
       "2027                   [elves, dwarves, hobbit, mission]         18        11   \n",
       "14315    [middle-earth (tolkien), the lord of the rings]         27        24   \n",
       "44513  [sword, magic, prince, kingdom, shurka, magica...         14         7   \n",
       "46177                       [gunslinger, based on novel]         50       199   \n",
       "\n",
       "              director                                            castkey  \n",
       "7069    [peterjackson]  elves orcs middle-earth (tolkien) based on nov...  \n",
       "4904    [peterjackson]  elves dwarves orcs middle-earth (tolkien) hobb...  \n",
       "25591   [peterjackson]  corruption elves dwarves orcs middle-earth (to...  \n",
       "22257   [peterjackson]  elves dwarves orcs hobbit dragon wizard sword ...  \n",
       "20174   [peterjackson]  riddle elves dwarves orcs middle-earth (tolkie...  \n",
       "16535      [julesbass]  elves orcs hobbit shire tower orsonbean theodo...  \n",
       "2027     [ralphbakshi]  elves dwarves hobbit mission christopherguard ...  \n",
       "14315  [chrisbouchard]  middle-earth (tolkien) the lord of the rings a...  \n",
       "44513  [héctorolivera]  sword magic prince kingdom shurka magical obje...  \n",
       "46177   [nikolajarcel]  gunslinger based on novel idriselba matthewmcc...  \n",
       "\n",
       "[10 rows x 32 columns]"
      ]
     },
     "execution_count": 18,
     "metadata": {},
     "output_type": "execute_result"
    }
   ],
   "source": [
    "#TODO: beware of indexing, and id correspondance from the dist matrix\n",
    "\n",
    "#similarity of all m in M to I := S\n",
    "in_mov = [5876]#[23076, 911] #= interstellar, space odyssey\n",
    "S = np.zeros(sim_castkey.shape[0])\n",
    "\n",
    "BETA = 0\n",
    "def movie_rating(idx):\n",
    "        rat = df.iloc[idx]['vote_average']\n",
    "        #count = df.iloc[idx]['vote_count'] TODO weighted vote\n",
    "        if rat > 0:\n",
    "            return rat\n",
    "        else:\n",
    "            return 0\n",
    "\n",
    "w = [0.7, 0.3] #vector of length same as the similarity        \n",
    "        \n",
    "similarity = [sim_castkey, sim_desc]\n",
    "for m in range(len(sim_castkey)):\n",
    "    s = 0 #total sim to movies\n",
    "    for i in in_mov:  #stupid, just half is enough\n",
    "        if m != i:\n",
    "            for j in range(len(similarity)):\n",
    "                s += similarity[j][m,i]*w[j] + movie_rating(m) * BETA\n",
    "    S[m] = s\n",
    "    \n",
    "    \n",
    "# #now argsort again and find several best ones\n",
    "print(\"max score:\", np.max(S), \" for id:\", np.argmax(S))\n",
    "sort = np.argsort(S)\n",
    "df.iloc[np.flip(sort[-10:])]"
   ]
  },
  {
   "cell_type": "markdown",
   "id": "8b10a2f3-6861-4eb9-a9c0-d4ae59627574",
   "metadata": {},
   "source": [
    "Since we have two matrices of dimensions $46000 \\times 46000$ the size of the data is $45000^2 \\cdot 8 \\approx 16.9$ Gb (8 bytes for float64). Because of $s_{i,j} = s_{j,i}$, the necessery part is only the lower (or upper) triangle matrix containing $\\frac{n(n-1)}{2}$ elements. Omitting the redundant information, we can approximately half the memory requirements, making the distance matrix comfortably loadable into a PC with 16Gb of RAM. In this fashion we will compose the similarity matrix of the two traingulare matrices based on our two currant distance matrices.\n",
    "\n",
    "For our final model we will also add the similarities before saving the matrixes, which will result with only one matrix, although with fixed weighting ratio."
   ]
  },
  {
   "cell_type": "markdown",
   "id": "08e2a88b-adb4-47e8-94ca-7d49d158d0ad",
   "metadata": {},
   "source": [
    "### Merged similarity"
   ]
  },
  {
   "cell_type": "code",
   "execution_count": 13,
   "id": "89d350d0-b53e-4ccc-87d1-d7dc677f204e",
   "metadata": {},
   "outputs": [],
   "source": [
    "W1 = 0.7\n",
    "W2 = 0.3\n",
    "\n",
    "feat_desc = vectorize(df['desc'], method='tfidf')\n",
    "sim_castkey = W1 * sim_castkey + W2 * cosine_similarity(feat_desc, feat_desc)"
   ]
  },
  {
   "cell_type": "code",
   "execution_count": 15,
   "id": "b6760e70-c01f-49bf-86d8-5b3962940778",
   "metadata": {},
   "outputs": [],
   "source": [
    "np.save(\"/home/tomas/Downloads/similarity_lower\", np.tril(sim_castkey))"
   ]
  },
  {
   "cell_type": "markdown",
   "id": "38fd3a8a-4d64-42e3-820b-0449b58d097e",
   "metadata": {},
   "source": [
    "## Other"
   ]
  },
  {
   "cell_type": "code",
   "execution_count": null,
   "id": "c7d6d40c-6c48-4dc8-b015-c98b7d09ed1f",
   "metadata": {},
   "outputs": [],
   "source": [
    "# export matrix to numpy binary TODO: sql!!!!\n",
    "# np.save(\"/home/tomas/Downloads/sim_castkey\", sim_castkey)"
   ]
  },
  {
   "cell_type": "markdown",
   "id": "ab5a454a-39ea-45e7-b8d8-0a7d8051f33f",
   "metadata": {},
   "source": [
    "### Storing df as a SQLite DB\n"
   ]
  },
  {
   "cell_type": "code",
   "execution_count": 39,
   "id": "b492a290-05e2-4430-966e-fdc2b234e6da",
   "metadata": {},
   "outputs": [
    {
     "name": "stderr",
     "output_type": "stream",
     "text": [
      "/tmp/ipykernel_8423/3862036341.py:4: FutureWarning: In a future version of pandas all arguments of DataFrame.drop except for the argument 'labels' will be keyword-only.\n",
      "  df2store = df.drop(['crew', 'keywords'], 1) #remove, makes problems for storing\n"
     ]
    }
   ],
   "source": [
    "import sqlite3\n",
    "from sqlalchemy import create_engine\n",
    "\n",
    "df2store = df.drop(['crew', 'keywords'], 1) #remove, makes problems for storing\n",
    "df2store = df2store.applymap(str)\n",
    "con = sqlite3.connect('movies.db')\n",
    "df2store.to_sql('movies', con=con)\n",
    "con.close()"
   ]
  },
  {
   "cell_type": "code",
   "execution_count": 38,
   "id": "b947d0c5-669e-4974-92e1-6b44f4a13de2",
   "metadata": {},
   "outputs": [
    {
     "data": {
      "text/plain": [
       "0        13\n",
       "1        26\n",
       "2         7\n",
       "3        10\n",
       "4        12\n",
       "         ..\n",
       "46623     3\n",
       "46624    11\n",
       "46625    15\n",
       "46626     5\n",
       "46627     0\n",
       "Name: cast_size, Length: 46628, dtype: object"
      ]
     },
     "execution_count": 38,
     "metadata": {},
     "output_type": "execute_result"
    }
   ],
   "source": [
    "df2store.iloc[:,26]"
   ]
  },
  {
   "cell_type": "code",
   "execution_count": 31,
   "id": "aac86775-7551-40ce-bee3-ed19c58e0ffa",
   "metadata": {},
   "outputs": [
    {
     "data": {
      "text/plain": [
       "Index(['adult', 'belongs_to_collection', 'budget', 'genres', 'homepage', 'id',\n",
       "       'imdb_id', 'original_language', 'original_title', 'overview',\n",
       "       'popularity', 'poster_path', 'production_companies',\n",
       "       'production_countries', 'release_date', 'revenue', 'runtime',\n",
       "       'spoken_languages', 'status', 'tagline', 'title', 'video',\n",
       "       'vote_average', 'vote_count', 'desc', 'cast', 'crew', 'keywords',\n",
       "       'cast_size', 'crew_size', 'director', 'castkey', 'score'],\n",
       "      dtype='object')"
      ]
     },
     "execution_count": 31,
     "metadata": {},
     "output_type": "execute_result"
    }
   ],
   "source": [
    "df.columns"
   ]
  },
  {
   "cell_type": "code",
   "execution_count": 32,
   "id": "633897e7-c5c6-4917-88f6-6226943ee0dd",
   "metadata": {},
   "outputs": [
    {
     "data": {
      "text/plain": [
       "0                        [tomhanks, timallen, donrickles]\n",
       "1             [robinwilliams, jonathanhyde, kirstendunst]\n",
       "2                [waltermatthau, jacklemmon, ann-margret]\n",
       "3          [whitneyhouston, angelabassett, lorettadevine]\n",
       "4                 [stevemartin, dianekeaton, martinshort]\n",
       "                               ...                       \n",
       "46623            [leilahatami, kouroshtahami, elhamkorda]\n",
       "46624             [angelaquino, perrydizon, hazelorencio]\n",
       "46625            [erikaeleniak, adambaldwin, juliedupage]\n",
       "46626    [iwanmosschuchin, nathalielissenko, pavelpavlov]\n",
       "46627                                                  []\n",
       "Name: cast, Length: 46628, dtype: object"
      ]
     },
     "execution_count": 32,
     "metadata": {},
     "output_type": "execute_result"
    }
   ],
   "source": [
    "df['cast']"
   ]
  },
  {
   "cell_type": "code",
   "execution_count": 49,
   "id": "bc5c89d7-4226-452f-8628-ab3cf43e0b68",
   "metadata": {
    "scrolled": true,
    "tags": []
   },
   "outputs": [
    {
     "name": "stdout",
     "output_type": "stream",
     "text": [
      "['index', 'adult', 'belongs_to_collection', 'budget', 'genres', 'homepage', 'id', 'imdb_id', 'original_language', 'original_title', 'overview', 'popularity', 'poster_path', 'production_companies', 'production_countries', 'release_date', 'revenue', 'runtime', 'spoken_languages', 'status', 'tagline', 'title', 'video', 'vote_average', 'vote_count', 'desc', 'cast', 'cast_size', 'crew_size', 'director', 'castkey', 'score']\n"
     ]
    }
   ],
   "source": [
    "#test\n",
    "con = sqlite3.connect('movies.db')\n",
    "cursor = con.execute(\"SELECT * FROM movies\")\n",
    "names = list(map(lambda x: x[0], cursor.description))\n",
    "print(names)\n",
    "con.close()"
   ]
  },
  {
   "cell_type": "code",
   "execution_count": 46,
   "id": "a0d64363-ce3d-4063-ba3c-f1389a8dca0f",
   "metadata": {},
   "outputs": [],
   "source": [
    "con.close()"
   ]
  }
 ],
 "metadata": {
  "kernelspec": {
   "display_name": "dsc",
   "language": "python",
   "name": "dsc"
  },
  "language_info": {
   "codemirror_mode": {
    "name": "ipython",
    "version": 3
   },
   "file_extension": ".py",
   "mimetype": "text/x-python",
   "name": "python",
   "nbconvert_exporter": "python",
   "pygments_lexer": "ipython3",
   "version": "3.9.12"
  }
 },
 "nbformat": 4,
 "nbformat_minor": 5
}
